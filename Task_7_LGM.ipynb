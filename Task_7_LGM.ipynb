{
 "cells": [
  {
   "cell_type": "markdown",
   "metadata": {},
   "source": [
    "# TASK_7\n",
    "##  Develop a Neural Network that can Read Handwriting\n",
    "### Done by :- Vatsavai Vinay Varma"
   ]
  },
  {
   "cell_type": "markdown",
   "metadata": {},
   "source": [
    "## Importing required libraries"
   ]
  },
  {
   "cell_type": "code",
   "execution_count": 14,
   "metadata": {},
   "outputs": [],
   "source": [
    "import tensorflow as tf\n",
    "from tensorflow.keras.datasets import mnist\n",
    "import matplotlib.pyplot as plt\n",
    "%matplotlib inline"
   ]
  },
  {
   "cell_type": "markdown",
   "metadata": {},
   "source": [
    "## Load the MNIST dataset"
   ]
  },
  {
   "cell_type": "code",
   "execution_count": 3,
   "metadata": {},
   "outputs": [],
   "source": [
    "(x_train, y_train), (x_test, y_test) = mnist.load_data()"
   ]
  },
  {
   "cell_type": "markdown",
   "metadata": {},
   "source": [
    "## Preprocess the data"
   ]
  },
  {
   "cell_type": "code",
   "execution_count": 4,
   "metadata": {},
   "outputs": [],
   "source": [
    "x_train = x_train.reshape(-1, 28, 28, 1) / 255.0\n",
    "x_test = x_test.reshape(-1, 28, 28, 1) / 255.0\n",
    "y_train = tf.keras.utils.to_categorical(y_train, num_classes=10)\n",
    "y_test = tf.keras.utils.to_categorical(y_test, num_classes=10)"
   ]
  },
  {
   "cell_type": "markdown",
   "metadata": {},
   "source": [
    "## Define the model architecture"
   ]
  },
  {
   "cell_type": "code",
   "execution_count": 5,
   "metadata": {},
   "outputs": [],
   "source": [
    "model = tf.keras.models.Sequential([\n",
    "    tf.keras.layers.Conv2D(32, (3, 3), activation='relu', input_shape=(28, 28, 1)),\n",
    "    tf.keras.layers.MaxPooling2D((2, 2)),\n",
    "    tf.keras.layers.Conv2D(64, (3, 3), activation='relu'),\n",
    "    tf.keras.layers.MaxPooling2D((2, 2)),\n",
    "    tf.keras.layers.Flatten(),\n",
    "    tf.keras.layers.Dense(64, activation='relu'),\n",
    "    tf.keras.layers.Dense(10, activation='softmax')\n",
    "])"
   ]
  },
  {
   "cell_type": "markdown",
   "metadata": {},
   "source": [
    "## Compile the model"
   ]
  },
  {
   "cell_type": "code",
   "execution_count": 6,
   "metadata": {},
   "outputs": [],
   "source": [
    "model.compile(optimizer='adam', loss='categorical_crossentropy', metrics=['accuracy'])"
   ]
  },
  {
   "cell_type": "markdown",
   "metadata": {},
   "source": [
    "## Train the model"
   ]
  },
  {
   "cell_type": "code",
   "execution_count": 7,
   "metadata": {},
   "outputs": [
    {
     "name": "stdout",
     "output_type": "stream",
     "text": [
      "Epoch 1/10\n",
      "422/422 [==============================] - 22s 51ms/step - loss: 0.2538 - accuracy: 0.9255 - val_loss: 0.0736 - val_accuracy: 0.9787\n",
      "Epoch 2/10\n",
      "422/422 [==============================] - 26s 61ms/step - loss: 0.0712 - accuracy: 0.9778 - val_loss: 0.0564 - val_accuracy: 0.9832\n",
      "Epoch 3/10\n",
      "422/422 [==============================] - 25s 59ms/step - loss: 0.0487 - accuracy: 0.9852 - val_loss: 0.0467 - val_accuracy: 0.9893\n",
      "Epoch 4/10\n",
      "422/422 [==============================] - 27s 63ms/step - loss: 0.0373 - accuracy: 0.9887 - val_loss: 0.0393 - val_accuracy: 0.9893\n",
      "Epoch 5/10\n",
      "422/422 [==============================] - 26s 61ms/step - loss: 0.0306 - accuracy: 0.9906 - val_loss: 0.0373 - val_accuracy: 0.9895\n",
      "Epoch 6/10\n",
      "422/422 [==============================] - 25s 59ms/step - loss: 0.0247 - accuracy: 0.9920 - val_loss: 0.0363 - val_accuracy: 0.9910\n",
      "Epoch 7/10\n",
      "422/422 [==============================] - 26s 62ms/step - loss: 0.0204 - accuracy: 0.9934 - val_loss: 0.0363 - val_accuracy: 0.9888\n",
      "Epoch 8/10\n",
      "422/422 [==============================] - 27s 63ms/step - loss: 0.0162 - accuracy: 0.9946 - val_loss: 0.0430 - val_accuracy: 0.9905\n",
      "Epoch 9/10\n",
      "422/422 [==============================] - 26s 61ms/step - loss: 0.0144 - accuracy: 0.9954 - val_loss: 0.0417 - val_accuracy: 0.9893\n",
      "Epoch 10/10\n",
      "422/422 [==============================] - 26s 61ms/step - loss: 0.0116 - accuracy: 0.9962 - val_loss: 0.0420 - val_accuracy: 0.9912\n"
     ]
    },
    {
     "data": {
      "text/plain": [
       "<keras.callbacks.History at 0x21b0d25d880>"
      ]
     },
     "execution_count": 7,
     "metadata": {},
     "output_type": "execute_result"
    }
   ],
   "source": [
    "model.fit(x_train, y_train, batch_size=128, epochs=10, validation_split=0.1)"
   ]
  },
  {
   "cell_type": "markdown",
   "metadata": {},
   "source": [
    "## Get user-defined index"
   ]
  },
  {
   "cell_type": "code",
   "execution_count": 16,
   "metadata": {},
   "outputs": [
    {
     "name": "stdout",
     "output_type": "stream",
     "text": [
      "Enter the index of the image you want to predict: 5\n"
     ]
    }
   ],
   "source": [
    "user_index = int(input(\"Enter the index of the image you want to predict: \"))"
   ]
  },
  {
   "cell_type": "markdown",
   "metadata": {},
   "source": [
    "## Predict value at user-defined index"
   ]
  },
  {
   "cell_type": "code",
   "execution_count": 17,
   "metadata": {},
   "outputs": [],
   "source": [
    "prediction = model.predict(x_test[user_index].reshape(1, 28, 28, 1))\n",
    "predicted_label = tf.argmax(prediction, axis=1).numpy()[0]"
   ]
  },
  {
   "cell_type": "markdown",
   "metadata": {},
   "source": [
    "## Print the predicted label and show the image"
   ]
  },
  {
   "cell_type": "code",
   "execution_count": 18,
   "metadata": {},
   "outputs": [
    {
     "name": "stdout",
     "output_type": "stream",
     "text": [
      "Predicted label: 1\n"
     ]
    },
    {
     "data": {
      "image/png": "[encoded data removed]",
      "text/plain": [
       "<Figure size 432x288 with 1 Axes>"
      ]
     },
     "metadata": {
      "needs_background": "light"
     },
     "output_type": "display_data"
    }
   ],
   "source": [
    "print(f\"Predicted label: {predicted_label}\")\n",
    "plt.imshow(x_test[user_index].reshape(28, 28), cmap='gray')\n",
    "plt.axis('off')\n",
    "plt.show()"
   ]
  },
  {
   "cell_type": "code",
   "execution_count": null,
   "metadata": {},
   "outputs": [],
   "source": []
  }
 ],
 "metadata": {
  "kernelspec": {
   "display_name": "Python 3",
   "language": "python",
   "name": "python3"
  },
  "language_info": {
   "codemirror_mode": {
    "name": "ipython",
    "version": 3
   },
   "file_extension": ".py",
   "mimetype": "text/x-python",
   "name": "python",
   "nbconvert_exporter": "python",
   "pygments_lexer": "ipython3",
   "version": "3.8.5"
  }
 },
 "nbformat": 4,
 "nbformat_minor": 4
}
