{
  "nbformat": 4,
  "nbformat_minor": 0,
  "metadata": {
    "colab": {
      "provenance": []
    },
    "kernelspec": {
      "name": "python3",
      "display_name": "Python 3"
    },
    "language_info": {
      "name": "python"
    }
  },
  "cells": [
    {
      "cell_type": "markdown",
      "source": [
        "# TASK_9\n",
        "## Hand written equation solver\n",
        "### Done by :- Vatsavai Vinay Varma"
      ],
      "metadata": {
        "id": "JnkAzW4bTK5n"
      }
    },
    {
      "cell_type": "code",
      "source": [
        "from google.colab import drive\n",
        "drive.mount('/content/drive')"
      ],
      "metadata": {
        "colab": {
          "base_uri": "https://localhost:8080/"
        },
        "id": "Vvuc5-CQbxJY",
        "outputId": "cf0a1848-bc0f-4512-d115-7ba444e5ec85"
      },
      "execution_count": null,
      "outputs": [
        {
          "output_type": "stream",
          "name": "stdout",
          "text": [
            "Mounted at /content/drive\n"
          ]
        }
      ]
    },
    {
      "cell_type": "code",
      "source": [
        "!unzip -q \"/content/drive/MyDrive/lgm1.zip\""
      ],
      "metadata": {
        "colab": {
          "base_uri": "https://localhost:8080/"
        },
        "id": "EPaw_CLqTyM8",
        "outputId": "e4755dcb-ed27-4da1-91e5-63d80eb4d482"
      },
      "execution_count": null,
      "outputs": [
        {
          "output_type": "stream",
          "name": "stdout",
          "text": [
            "warning [/content/drive/MyDrive/lgm1.zip]:  76 extra bytes at beginning or within zipfile\n",
            "  (attempting to process anyway)\n",
            "error [/content/drive/MyDrive/lgm1.zip]:  reported length of central directory is\n",
            "  -76 bytes too long (Atari STZip zipfile?  J.H.Holm ZIPSPLIT 1.1\n",
            "  zipfile?).  Compensating...\n",
            "error:  expected central file header signature not found (file #179974).\n",
            "  (please check that you have transferred or created the zipfile in the\n",
            "  appropriate BINARY mode and that you have compiled UnZip properly)\n"
          ]
        }
      ]
    },
    {
      "cell_type": "code",
      "source": [
        "import numpy as np\n",
        "import cv2\n",
        "from PIL import Image\n",
        "from matplotlib import pyplot as plt\n",
        "%matplotlib inline\n",
        "import os\n",
        "from os import listdir\n",
        "from os.path import isfile, join\n",
        "import pandas as pd\n",
        "\n",
        "import pickle"
      ],
      "metadata": {
        "id": "lmKH1QvibxWU"
      },
      "execution_count": null,
      "outputs": []
    },
    {
      "cell_type": "code",
      "source": [
        "def load_images_from_folder(folder):\n",
        "    train_data=[]\n",
        "    for filename in os.listdir(folder):\n",
        "        img = cv2.imread(os.path.join(folder,filename),cv2.IMREAD_GRAYSCALE)\n",
        "        img=~img\n",
        "        if img is not None:\n",
        "            ret,thresh=cv2.threshold(img,127,255,cv2.THRESH_BINARY)\n",
        "\n",
        "            ctrs,ret=cv2.findContours(thresh,cv2.RETR_EXTERNAL,cv2.CHAIN_APPROX_NONE)\n",
        "            cnt=sorted(ctrs, key=lambda ctr: cv2.boundingRect(ctr)[0])\n",
        "            w=int(28)\n",
        "            h=int(28)\n",
        "            maxi=0\n",
        "            for c in cnt:\n",
        "                x,y,w,h=cv2.boundingRect(c)\n",
        "                maxi=max(w*h,maxi)\n",
        "                if maxi==w*h:\n",
        "                    x_max=x\n",
        "                    y_max=y\n",
        "                    w_max=w\n",
        "                    h_max=h\n",
        "            im_crop= thresh[y_max:y_max+h_max+10, x_max:x_max+w_max+10]\n",
        "            im_resize = cv2.resize(im_crop,(28,28))\n",
        "            im_resize=np.reshape(im_resize,(784,1))\n",
        "            train_data.append(im_resize)\n",
        "    return train_data\n"
      ],
      "metadata": {
        "id": "GSRhhaMFTySM"
      },
      "execution_count": null,
      "outputs": []
    },
    {
      "cell_type": "code",
      "source": [
        "data=[]\n",
        "data=load_images_from_folder('/content/lgm/-')\n",
        "len(data)\n",
        "for i in range(0,len(data)):\n",
        "    data[i]=np.append(data[i],['10'])\n",
        "\n",
        "print(len(data))"
      ],
      "metadata": {
        "id": "6FpQIXu-TyUV",
        "colab": {
          "base_uri": "https://localhost:8080/"
        },
        "outputId": "be15e4c9-536f-4dcd-d0dd-75c4bca3a354"
      },
      "execution_count": null,
      "outputs": [
        {
          "output_type": "stream",
          "name": "stdout",
          "text": [
            "33997\n"
          ]
        }
      ]
    },
    {
      "cell_type": "code",
      "source": [
        "data11=load_images_from_folder('/content/lgm/+')\n",
        "\n",
        "for i in range(0,len(data11)):\n",
        "    data11[i]=np.append(data11[i],['11'])\n",
        "data=np.concatenate((data,data11))\n",
        "print(len(data))"
      ],
      "metadata": {
        "id": "XJmezpkyTyW1",
        "colab": {
          "base_uri": "https://localhost:8080/"
        },
        "outputId": "848ef0ea-ed0e-4f1d-8143-13fd3d1d871f"
      },
      "execution_count": null,
      "outputs": [
        {
          "output_type": "stream",
          "name": "stdout",
          "text": [
            "59109\n"
          ]
        }
      ]
    },
    {
      "cell_type": "code",
      "source": [
        "data0=load_images_from_folder('/content/lgm/0')\n",
        "for i in range(0,len(data0)):\n",
        "    data0[i]=np.append(data0[i],['0'])\n",
        "data=np.concatenate((data,data0))\n",
        "print(len(data))"
      ],
      "metadata": {
        "id": "RqMlNjrdTykl",
        "colab": {
          "base_uri": "https://localhost:8080/"
        },
        "outputId": "b5cbc006-b4b6-448d-d957-91ae09f87980"
      },
      "execution_count": null,
      "outputs": [
        {
          "output_type": "stream",
          "name": "stdout",
          "text": [
            "66023\n"
          ]
        }
      ]
    },
    {
      "cell_type": "code",
      "source": [
        "data1=load_images_from_folder('/content/lgm/1')\n",
        "for i in range(0,len(data1)):\n",
        "    data1[i]=np.append(data1[i],['1'])\n",
        "data=np.concatenate((data,data1))\n",
        "print(len(data))"
      ],
      "metadata": {
        "id": "ttgEbxm-Tynv",
        "colab": {
          "base_uri": "https://localhost:8080/"
        },
        "outputId": "77f22238-c1b6-435a-f847-ecf670786d51"
      },
      "execution_count": null,
      "outputs": [
        {
          "output_type": "stream",
          "name": "stdout",
          "text": [
            "92543\n"
          ]
        }
      ]
    },
    {
      "cell_type": "code",
      "source": [
        "data2=load_images_from_folder('/content/lgm/2')\n",
        "for i in range(0,len(data2)):\n",
        "    data2[i]=np.append(data2[i],['2'])\n",
        "data=np.concatenate((data,data2))\n",
        "print(len(data))"
      ],
      "metadata": {
        "id": "vu4_dWZ3Tys1",
        "colab": {
          "base_uri": "https://localhost:8080/"
        },
        "outputId": "a2945629-a427-4c5b-883f-ad47e45d9afb"
      },
      "execution_count": null,
      "outputs": [
        {
          "output_type": "stream",
          "name": "stdout",
          "text": [
            "118684\n"
          ]
        }
      ]
    },
    {
      "cell_type": "code",
      "source": [
        "data3=load_images_from_folder('/content/lgm/3')\n",
        "for i in range(0,len(data3)):\n",
        "    data3[i]=np.append(data3[i],['3'])\n",
        "data=np.concatenate((data,data3))\n",
        "print(len(data))"
      ],
      "metadata": {
        "id": "vB_2mbvQTyvp",
        "colab": {
          "base_uri": "https://localhost:8080/"
        },
        "outputId": "e87d5467-bc37-447e-a18b-c7f1eff49b8e"
      },
      "execution_count": null,
      "outputs": [
        {
          "output_type": "stream",
          "name": "stdout",
          "text": [
            "129593\n"
          ]
        }
      ]
    },
    {
      "cell_type": "code",
      "source": [
        "data4=load_images_from_folder('/content/lgm/4')\n",
        "for i in range(0,len(data4)):\n",
        "    data4[i]=np.append(data4[i],['4'])\n",
        "data=np.concatenate((data,data4))\n",
        "print(len(data))"
      ],
      "metadata": {
        "id": "bmmfN8sfTyyF",
        "colab": {
          "base_uri": "https://localhost:8080/"
        },
        "outputId": "b2b40ea7-e8d3-47d7-a3ba-8fe169c7ffa0"
      },
      "execution_count": null,
      "outputs": [
        {
          "output_type": "stream",
          "name": "stdout",
          "text": [
            "136989\n"
          ]
        }
      ]
    },
    {
      "cell_type": "code",
      "source": [
        "data5=load_images_from_folder('/content/lgm/5')\n",
        "for i in range(0,len(data5)):\n",
        "    data5[i]=np.append(data5[i],['5'])\n",
        "data=np.concatenate((data,data5))\n",
        "print(len(data))"
      ],
      "metadata": {
        "id": "6_wwpzsWTy2-",
        "colab": {
          "base_uri": "https://localhost:8080/"
        },
        "outputId": "d56b842a-f974-42d7-b856-51b5f3417167"
      },
      "execution_count": null,
      "outputs": [
        {
          "output_type": "stream",
          "name": "stdout",
          "text": [
            "140534\n"
          ]
        }
      ]
    },
    {
      "cell_type": "code",
      "source": [
        "data6=load_images_from_folder('/content/lgm/6')\n",
        "for i in range(0,len(data6)):\n",
        "    data6[i]=np.append(data6[i],['6'])\n",
        "data=np.concatenate((data,data6))\n",
        "print(len(data))"
      ],
      "metadata": {
        "id": "t0HoVwElTy5k",
        "colab": {
          "base_uri": "https://localhost:8080/"
        },
        "outputId": "1ef65d9c-43b2-4a88-8be1-6f7bff2ca3fb"
      },
      "execution_count": null,
      "outputs": [
        {
          "output_type": "stream",
          "name": "stdout",
          "text": [
            "143652\n"
          ]
        }
      ]
    },
    {
      "cell_type": "code",
      "source": [
        "data7=load_images_from_folder('/content/lgm/7')\n",
        "for i in range(0,len(data7)):\n",
        "    data7[i]=np.append(data7[i],['7'])\n",
        "data=np.concatenate((data,data7))\n",
        "print(len(data))"
      ],
      "metadata": {
        "id": "zjddqklOTy88",
        "colab": {
          "base_uri": "https://localhost:8080/"
        },
        "outputId": "f3cc7004-2c98-4478-cec1-52e5da8ca385"
      },
      "execution_count": null,
      "outputs": [
        {
          "output_type": "stream",
          "name": "stdout",
          "text": [
            "146561\n"
          ]
        }
      ]
    },
    {
      "cell_type": "code",
      "source": [
        "data8 = load_images_from_folder('/content/lgm/8')\n",
        "for i in range(0,len(data8)):\n",
        "    data8[i]=np.append(data8[i],['8'])\n",
        "data=np.concatenate((data,data8))\n",
        "print(len(data))"
      ],
      "metadata": {
        "id": "VoRhZnwDTy_1",
        "colab": {
          "base_uri": "https://localhost:8080/"
        },
        "outputId": "4b579b3a-11dd-4a9d-eeb9-62a85d1b394a"
      },
      "execution_count": null,
      "outputs": [
        {
          "output_type": "stream",
          "name": "stdout",
          "text": [
            "149629\n"
          ]
        }
      ]
    },
    {
      "cell_type": "code",
      "source": [
        "data9 = load_images_from_folder('/content/lgm/9')\n",
        "for i in range(0,len(data9)):\n",
        "    data9[i]=np.append(data9[i],['9'])\n",
        "data=np.concatenate((data,data9))\n",
        "print(len(data))"
      ],
      "metadata": {
        "id": "Z1Lqrif1TzCY",
        "colab": {
          "base_uri": "https://localhost:8080/"
        },
        "outputId": "a69943bb-3a42-4e3d-db36-4df3fd1d7252"
      },
      "execution_count": null,
      "outputs": [
        {
          "output_type": "stream",
          "name": "stdout",
          "text": [
            "153366\n"
          ]
        }
      ]
    },
    {
      "cell_type": "code",
      "source": [
        "data12 = load_images_from_folder('/content/lgm/X')\n",
        "for i in range(0,len(data12)):\n",
        "    data12[i]=np.append(data12[i],['12'])\n",
        "data=np.concatenate((data,data12))\n",
        "print(len(data))"
      ],
      "metadata": {
        "id": "SSJDeyAYTzG7",
        "colab": {
          "base_uri": "https://localhost:8080/"
        },
        "outputId": "e63aea85-b7af-45bb-ab5a-8ce92e05d7be"
      },
      "execution_count": null,
      "outputs": [
        {
          "output_type": "stream",
          "name": "stdout",
          "text": [
            "179960\n"
          ]
        }
      ]
    },
    {
      "cell_type": "code",
      "source": [
        "df=pd.DataFrame(data,index=None)\n",
        "df.to_csv('train_handwritten.csv',index=False)"
      ],
      "metadata": {
        "id": "tz83guobTzJR"
      },
      "execution_count": null,
      "outputs": []
    },
    {
      "cell_type": "code",
      "source": [
        "data = pd.read_csv('/content/train_handwritten.csv',index_col=False)\n",
        "labels = data[['784']]"
      ],
      "metadata": {
        "id": "uNnouz28TzLx"
      },
      "execution_count": null,
      "outputs": []
    },
    {
      "cell_type": "code",
      "source": [
        "data.drop(data.columns[[784]],axis=1,inplace=True)\n",
        "data.head()"
      ],
      "metadata": {
        "colab": {
          "base_uri": "https://localhost:8080/",
          "height": 236
        },
        "id": "4v_736YxebLd",
        "outputId": "59ea2058-9d56-46bd-a3b7-a70be5becc25"
      },
      "execution_count": null,
      "outputs": [
        {
          "output_type": "execute_result",
          "data": {
            "text/plain": [
              "     0    1    2    3    4    5    6    7    8    9  ...  774  775  776  777  \\\n",
              "0  255  255  255  255  255  255  255  255  255  255  ...    0    0    0    0   \n",
              "1  177    0    0    0    0    0    0    0    0    0  ...    0    0    0    0   \n",
              "2    0    0    0    0    0    0    0    0    0    0  ...    0    0    0    0   \n",
              "3    0    0    0    0    0    0    0    0    0    0  ...    0    0    0    0   \n",
              "4    0    0    0    0    0    0    0    0    0    0  ...    0    0    0    0   \n",
              "\n",
              "   778  779  780  781  782  783  \n",
              "0    0    0    0    0    0    0  \n",
              "1    0    0    0    0    0    0  \n",
              "2    0    0    0    0    0    0  \n",
              "3    0    0    0    0    0    0  \n",
              "4    0    0    0    0    0    0  \n",
              "\n",
              "[5 rows x 784 columns]"
            ],
            "text/html": [
              "\n",
              "  <div id=\"df-0b448b16-8ffc-4af5-8f7a-4298110b88e0\">\n",
              "    <div class=\"colab-df-container\">\n",
              "      <div>\n",
              "<style scoped>\n",
              "    .dataframe tbody tr th:only-of-type {\n",
              "        vertical-align: middle;\n",
              "    }\n",
              "\n",
              "    .dataframe tbody tr th {\n",
              "        vertical-align: top;\n",
              "    }\n",
              "\n",
              "    .dataframe thead th {\n",
              "        text-align: right;\n",
              "    }\n",
              "</style>\n",
              "<table border=\"1\" class=\"dataframe\">\n",
              "  <thead>\n",
              "    <tr style=\"text-align: right;\">\n",
              "      <th></th>\n",
              "      <th>0</th>\n",
              "      <th>1</th>\n",
              "      <th>2</th>\n",
              "      <th>3</th>\n",
              "      <th>4</th>\n",
              "      <th>5</th>\n",
              "      <th>6</th>\n",
              "      <th>7</th>\n",
              "      <th>8</th>\n",
              "      <th>9</th>\n",
              "      <th>...</th>\n",
              "      <th>774</th>\n",
              "      <th>775</th>\n",
              "      <th>776</th>\n",
              "      <th>777</th>\n",
              "      <th>778</th>\n",
              "      <th>779</th>\n",
              "      <th>780</th>\n",
              "      <th>781</th>\n",
              "      <th>782</th>\n",
              "      <th>783</th>\n",
              "    </tr>\n",
              "  </thead>\n",
              "  <tbody>\n",
              "    <tr>\n",
              "      <th>0</th>\n",
              "      <td>255</td>\n",
              "      <td>255</td>\n",
              "      <td>255</td>\n",
              "      <td>255</td>\n",
              "      <td>255</td>\n",
              "      <td>255</td>\n",
              "      <td>255</td>\n",
              "      <td>255</td>\n",
              "      <td>255</td>\n",
              "      <td>255</td>\n",
              "      <td>...</td>\n",
              "      <td>0</td>\n",
              "      <td>0</td>\n",
              "      <td>0</td>\n",
              "      <td>0</td>\n",
              "      <td>0</td>\n",
              "      <td>0</td>\n",
              "      <td>0</td>\n",
              "      <td>0</td>\n",
              "      <td>0</td>\n",
              "      <td>0</td>\n",
              "    </tr>\n",
              "    <tr>\n",
              "      <th>1</th>\n",
              "      <td>177</td>\n",
              "      <td>0</td>\n",
              "      <td>0</td>\n",
              "      <td>0</td>\n",
              "      <td>0</td>\n",
              "      <td>0</td>\n",
              "      <td>0</td>\n",
              "      <td>0</td>\n",
              "      <td>0</td>\n",
              "      <td>0</td>\n",
              "      <td>...</td>\n",
              "      <td>0</td>\n",
              "      <td>0</td>\n",
              "      <td>0</td>\n",
              "      <td>0</td>\n",
              "      <td>0</td>\n",
              "      <td>0</td>\n",
              "      <td>0</td>\n",
              "      <td>0</td>\n",
              "      <td>0</td>\n",
              "      <td>0</td>\n",
              "    </tr>\n",
              "    <tr>\n",
              "      <th>2</th>\n",
              "      <td>0</td>\n",
              "      <td>0</td>\n",
              "      <td>0</td>\n",
              "      <td>0</td>\n",
              "      <td>0</td>\n",
              "      <td>0</td>\n",
              "      <td>0</td>\n",
              "      <td>0</td>\n",
              "      <td>0</td>\n",
              "      <td>0</td>\n",
              "      <td>...</td>\n",
              "      <td>0</td>\n",
              "      <td>0</td>\n",
              "      <td>0</td>\n",
              "      <td>0</td>\n",
              "      <td>0</td>\n",
              "      <td>0</td>\n",
              "      <td>0</td>\n",
              "      <td>0</td>\n",
              "      <td>0</td>\n",
              "      <td>0</td>\n",
              "    </tr>\n",
              "    <tr>\n",
              "      <th>3</th>\n",
              "      <td>0</td>\n",
              "      <td>0</td>\n",
              "      <td>0</td>\n",
              "      <td>0</td>\n",
              "      <td>0</td>\n",
              "      <td>0</td>\n",
              "      <td>0</td>\n",
              "      <td>0</td>\n",
              "      <td>0</td>\n",
              "      <td>0</td>\n",
              "      <td>...</td>\n",
              "      <td>0</td>\n",
              "      <td>0</td>\n",
              "      <td>0</td>\n",
              "      <td>0</td>\n",
              "      <td>0</td>\n",
              "      <td>0</td>\n",
              "      <td>0</td>\n",
              "      <td>0</td>\n",
              "      <td>0</td>\n",
              "      <td>0</td>\n",
              "    </tr>\n",
              "    <tr>\n",
              "      <th>4</th>\n",
              "      <td>0</td>\n",
              "      <td>0</td>\n",
              "      <td>0</td>\n",
              "      <td>0</td>\n",
              "      <td>0</td>\n",
              "      <td>0</td>\n",
              "      <td>0</td>\n",
              "      <td>0</td>\n",
              "      <td>0</td>\n",
              "      <td>0</td>\n",
              "      <td>...</td>\n",
              "      <td>0</td>\n",
              "      <td>0</td>\n",
              "      <td>0</td>\n",
              "      <td>0</td>\n",
              "      <td>0</td>\n",
              "      <td>0</td>\n",
              "      <td>0</td>\n",
              "      <td>0</td>\n",
              "      <td>0</td>\n",
              "      <td>0</td>\n",
              "    </tr>\n",
              "  </tbody>\n",
              "</table>\n",
              "<p>5 rows × 784 columns</p>\n",
              "</div>\n",
              "      <button class=\"colab-df-convert\" onclick=\"convertToInteractive('df-0b448b16-8ffc-4af5-8f7a-4298110b88e0')\"\n",
              "              title=\"Convert this dataframe to an interactive table.\"\n",
              "              style=\"display:none;\">\n",
              "        \n",
              "  <svg xmlns=\"http://www.w3.org/2000/svg\" height=\"24px\"viewBox=\"0 0 24 24\"\n",
              "       width=\"24px\">\n",
              "    <path d=\"M0 0h24v24H0V0z\" fill=\"none\"/>\n",
              "    <path d=\"M18.56 5.44l.94 2.06.94-2.06 2.06-.94-2.06-.94-.94-2.06-.94 2.06-2.06.94zm-11 1L8.5 8.5l.94-2.06 2.06-.94-2.06-.94L8.5 2.5l-.94 2.06-2.06.94zm10 10l.94 2.06.94-2.06 2.06-.94-2.06-.94-.94-2.06-.94 2.06-2.06.94z\"/><path d=\"M17.41 7.96l-1.37-1.37c-.4-.4-.92-.59-1.43-.59-.52 0-1.04.2-1.43.59L10.3 9.45l-7.72 7.72c-.78.78-.78 2.05 0 2.83L4 21.41c.39.39.9.59 1.41.59.51 0 1.02-.2 1.41-.59l7.78-7.78 2.81-2.81c.8-.78.8-2.07 0-2.86zM5.41 20L4 18.59l7.72-7.72 1.47 1.35L5.41 20z\"/>\n",
              "  </svg>\n",
              "      </button>\n",
              "      \n",
              "  <style>\n",
              "    .colab-df-container {\n",
              "      display:flex;\n",
              "      flex-wrap:wrap;\n",
              "      gap: 12px;\n",
              "    }\n",
              "\n",
              "    .colab-df-convert {\n",
              "      background-color: #E8F0FE;\n",
              "      border: none;\n",
              "      border-radius: 50%;\n",
              "      cursor: pointer;\n",
              "      display: none;\n",
              "      fill: #1967D2;\n",
              "      height: 32px;\n",
              "      padding: 0 0 0 0;\n",
              "      width: 32px;\n",
              "    }\n",
              "\n",
              "    .colab-df-convert:hover {\n",
              "      background-color: #E2EBFA;\n",
              "      box-shadow: 0px 1px 2px rgba(60, 64, 67, 0.3), 0px 1px 3px 1px rgba(60, 64, 67, 0.15);\n",
              "      fill: #174EA6;\n",
              "    }\n",
              "\n",
              "    [theme=dark] .colab-df-convert {\n",
              "      background-color: #3B4455;\n",
              "      fill: #D2E3FC;\n",
              "    }\n",
              "\n",
              "    [theme=dark] .colab-df-convert:hover {\n",
              "      background-color: #434B5C;\n",
              "      box-shadow: 0px 1px 3px 1px rgba(0, 0, 0, 0.15);\n",
              "      filter: drop-shadow(0px 1px 2px rgba(0, 0, 0, 0.3));\n",
              "      fill: #FFFFFF;\n",
              "    }\n",
              "  </style>\n",
              "\n",
              "      <script>\n",
              "        const buttonEl =\n",
              "          document.querySelector('#df-0b448b16-8ffc-4af5-8f7a-4298110b88e0 button.colab-df-convert');\n",
              "        buttonEl.style.display =\n",
              "          google.colab.kernel.accessAllowed ? 'block' : 'none';\n",
              "\n",
              "        async function convertToInteractive(key) {\n",
              "          const element = document.querySelector('#df-0b448b16-8ffc-4af5-8f7a-4298110b88e0');\n",
              "          const dataTable =\n",
              "            await google.colab.kernel.invokeFunction('convertToInteractive',\n",
              "                                                     [key], {});\n",
              "          if (!dataTable) return;\n",
              "\n",
              "          const docLinkHtml = 'Like what you see? Visit the ' +\n",
              "            '<a target=\"_blank\" href=https://colab.research.google.com/notebooks/data_table.ipynb>data table notebook</a>'\n",
              "            + ' to learn more about interactive tables.';\n",
              "          element.innerHTML = '';\n",
              "          dataTable['output_type'] = 'display_data';\n",
              "          await google.colab.output.renderOutput(dataTable, element);\n",
              "          const docLink = document.createElement('div');\n",
              "          docLink.innerHTML = docLinkHtml;\n",
              "          element.appendChild(docLink);\n",
              "        }\n",
              "      </script>\n",
              "    </div>\n",
              "  </div>\n",
              "  "
            ]
          },
          "metadata": {},
          "execution_count": 22
        }
      ]
    },
    {
      "cell_type": "code",
      "source": [
        "np.random.seed(1212)\n",
        "import keras\n",
        "from keras.models import Model\n",
        "from keras.layers import *\n",
        "from keras import optimizers\n",
        "from keras.layers import Input, Dense\n",
        "from keras.models import Sequential\n",
        "from keras.layers import Dense\n",
        "from keras.layers import Dropout\n",
        "from keras.layers import Flatten\n",
        "from keras.layers.convolutional import Conv2D\n",
        "from keras.layers.convolutional import MaxPooling2D\n",
        "from keras.utils import np_utils\n",
        "from keras import backend as K\n",
        "K.image_data_format()"
      ],
      "metadata": {
        "colab": {
          "base_uri": "https://localhost:8080/",
          "height": 35
        },
        "id": "WYzRmcQPedRx",
        "outputId": "b94dc29e-6fc7-409c-e74e-87c0df19b6db"
      },
      "execution_count": null,
      "outputs": [
        {
          "output_type": "execute_result",
          "data": {
            "text/plain": [
              "'channels_last'"
            ],
            "application/vnd.google.colaboratory.intrinsic+json": {
              "type": "string"
            }
          },
          "metadata": {},
          "execution_count": 23
        }
      ]
    },
    {
      "cell_type": "code",
      "source": [
        "labels=np.array(labels)"
      ],
      "metadata": {
        "id": "vGxUSuItedXZ"
      },
      "execution_count": null,
      "outputs": []
    },
    {
      "cell_type": "code",
      "source": [
        "from keras.utils.np_utils import to_categorical\n",
        "cat=to_categorical(labels,num_classes=13)"
      ],
      "metadata": {
        "id": "tnTcKTkaedcl"
      },
      "execution_count": null,
      "outputs": []
    },
    {
      "cell_type": "code",
      "source": [
        "print(cat[0])"
      ],
      "metadata": {
        "colab": {
          "base_uri": "https://localhost:8080/"
        },
        "id": "iTFvsIyJedhi",
        "outputId": "276cfbf7-85b3-4189-81a1-d21cf694f027"
      },
      "execution_count": null,
      "outputs": [
        {
          "output_type": "stream",
          "name": "stdout",
          "text": [
            "[0. 0. 0. 0. 0. 0. 0. 0. 0. 0. 1. 0. 0.]\n"
          ]
        }
      ]
    },
    {
      "cell_type": "code",
      "source": [
        "data.head()"
      ],
      "metadata": {
        "colab": {
          "base_uri": "https://localhost:8080/",
          "height": 236
        },
        "id": "Pl9WK_-WedmN",
        "outputId": "525a4f8c-901d-4689-f7a2-41ed90ef1d44"
      },
      "execution_count": null,
      "outputs": [
        {
          "output_type": "execute_result",
          "data": {
            "text/plain": [
              "     0    1    2    3    4    5    6    7    8    9  ...  774  775  776  777  \\\n",
              "0  255  255  255  255  255  255  255  255  255  255  ...    0    0    0    0   \n",
              "1  177    0    0    0    0    0    0    0    0    0  ...    0    0    0    0   \n",
              "2    0    0    0    0    0    0    0    0    0    0  ...    0    0    0    0   \n",
              "3    0    0    0    0    0    0    0    0    0    0  ...    0    0    0    0   \n",
              "4    0    0    0    0    0    0    0    0    0    0  ...    0    0    0    0   \n",
              "\n",
              "   778  779  780  781  782  783  \n",
              "0    0    0    0    0    0    0  \n",
              "1    0    0    0    0    0    0  \n",
              "2    0    0    0    0    0    0  \n",
              "3    0    0    0    0    0    0  \n",
              "4    0    0    0    0    0    0  \n",
              "\n",
              "[5 rows x 784 columns]"
            ],
            "text/html": [
              "\n",
              "  <div id=\"df-77fe3758-b5f4-4af4-a8a1-ed29172d5e76\">\n",
              "    <div class=\"colab-df-container\">\n",
              "      <div>\n",
              "<style scoped>\n",
              "    .dataframe tbody tr th:only-of-type {\n",
              "        vertical-align: middle;\n",
              "    }\n",
              "\n",
              "    .dataframe tbody tr th {\n",
              "        vertical-align: top;\n",
              "    }\n",
              "\n",
              "    .dataframe thead th {\n",
              "        text-align: right;\n",
              "    }\n",
              "</style>\n",
              "<table border=\"1\" class=\"dataframe\">\n",
              "  <thead>\n",
              "    <tr style=\"text-align: right;\">\n",
              "      <th></th>\n",
              "      <th>0</th>\n",
              "      <th>1</th>\n",
              "      <th>2</th>\n",
              "      <th>3</th>\n",
              "      <th>4</th>\n",
              "      <th>5</th>\n",
              "      <th>6</th>\n",
              "      <th>7</th>\n",
              "      <th>8</th>\n",
              "      <th>9</th>\n",
              "      <th>...</th>\n",
              "      <th>774</th>\n",
              "      <th>775</th>\n",
              "      <th>776</th>\n",
              "      <th>777</th>\n",
              "      <th>778</th>\n",
              "      <th>779</th>\n",
              "      <th>780</th>\n",
              "      <th>781</th>\n",
              "      <th>782</th>\n",
              "      <th>783</th>\n",
              "    </tr>\n",
              "  </thead>\n",
              "  <tbody>\n",
              "    <tr>\n",
              "      <th>0</th>\n",
              "      <td>255</td>\n",
              "      <td>255</td>\n",
              "      <td>255</td>\n",
              "      <td>255</td>\n",
              "      <td>255</td>\n",
              "      <td>255</td>\n",
              "      <td>255</td>\n",
              "      <td>255</td>\n",
              "      <td>255</td>\n",
              "      <td>255</td>\n",
              "      <td>...</td>\n",
              "      <td>0</td>\n",
              "      <td>0</td>\n",
              "      <td>0</td>\n",
              "      <td>0</td>\n",
              "      <td>0</td>\n",
              "      <td>0</td>\n",
              "      <td>0</td>\n",
              "      <td>0</td>\n",
              "      <td>0</td>\n",
              "      <td>0</td>\n",
              "    </tr>\n",
              "    <tr>\n",
              "      <th>1</th>\n",
              "      <td>177</td>\n",
              "      <td>0</td>\n",
              "      <td>0</td>\n",
              "      <td>0</td>\n",
              "      <td>0</td>\n",
              "      <td>0</td>\n",
              "      <td>0</td>\n",
              "      <td>0</td>\n",
              "      <td>0</td>\n",
              "      <td>0</td>\n",
              "      <td>...</td>\n",
              "      <td>0</td>\n",
              "      <td>0</td>\n",
              "      <td>0</td>\n",
              "      <td>0</td>\n",
              "      <td>0</td>\n",
              "      <td>0</td>\n",
              "      <td>0</td>\n",
              "      <td>0</td>\n",
              "      <td>0</td>\n",
              "      <td>0</td>\n",
              "    </tr>\n",
              "    <tr>\n",
              "      <th>2</th>\n",
              "      <td>0</td>\n",
              "      <td>0</td>\n",
              "      <td>0</td>\n",
              "      <td>0</td>\n",
              "      <td>0</td>\n",
              "      <td>0</td>\n",
              "      <td>0</td>\n",
              "      <td>0</td>\n",
              "      <td>0</td>\n",
              "      <td>0</td>\n",
              "      <td>...</td>\n",
              "      <td>0</td>\n",
              "      <td>0</td>\n",
              "      <td>0</td>\n",
              "      <td>0</td>\n",
              "      <td>0</td>\n",
              "      <td>0</td>\n",
              "      <td>0</td>\n",
              "      <td>0</td>\n",
              "      <td>0</td>\n",
              "      <td>0</td>\n",
              "    </tr>\n",
              "    <tr>\n",
              "      <th>3</th>\n",
              "      <td>0</td>\n",
              "      <td>0</td>\n",
              "      <td>0</td>\n",
              "      <td>0</td>\n",
              "      <td>0</td>\n",
              "      <td>0</td>\n",
              "      <td>0</td>\n",
              "      <td>0</td>\n",
              "      <td>0</td>\n",
              "      <td>0</td>\n",
              "      <td>...</td>\n",
              "      <td>0</td>\n",
              "      <td>0</td>\n",
              "      <td>0</td>\n",
              "      <td>0</td>\n",
              "      <td>0</td>\n",
              "      <td>0</td>\n",
              "      <td>0</td>\n",
              "      <td>0</td>\n",
              "      <td>0</td>\n",
              "      <td>0</td>\n",
              "    </tr>\n",
              "    <tr>\n",
              "      <th>4</th>\n",
              "      <td>0</td>\n",
              "      <td>0</td>\n",
              "      <td>0</td>\n",
              "      <td>0</td>\n",
              "      <td>0</td>\n",
              "      <td>0</td>\n",
              "      <td>0</td>\n",
              "      <td>0</td>\n",
              "      <td>0</td>\n",
              "      <td>0</td>\n",
              "      <td>...</td>\n",
              "      <td>0</td>\n",
              "      <td>0</td>\n",
              "      <td>0</td>\n",
              "      <td>0</td>\n",
              "      <td>0</td>\n",
              "      <td>0</td>\n",
              "      <td>0</td>\n",
              "      <td>0</td>\n",
              "      <td>0</td>\n",
              "      <td>0</td>\n",
              "    </tr>\n",
              "  </tbody>\n",
              "</table>\n",
              "<p>5 rows × 784 columns</p>\n",
              "</div>\n",
              "      <button class=\"colab-df-convert\" onclick=\"convertToInteractive('df-77fe3758-b5f4-4af4-a8a1-ed29172d5e76')\"\n",
              "              title=\"Convert this dataframe to an interactive table.\"\n",
              "              style=\"display:none;\">\n",
              "        \n",
              "  <svg xmlns=\"http://www.w3.org/2000/svg\" height=\"24px\"viewBox=\"0 0 24 24\"\n",
              "       width=\"24px\">\n",
              "    <path d=\"M0 0h24v24H0V0z\" fill=\"none\"/>\n",
              "    <path d=\"M18.56 5.44l.94 2.06.94-2.06 2.06-.94-2.06-.94-.94-2.06-.94 2.06-2.06.94zm-11 1L8.5 8.5l.94-2.06 2.06-.94-2.06-.94L8.5 2.5l-.94 2.06-2.06.94zm10 10l.94 2.06.94-2.06 2.06-.94-2.06-.94-.94-2.06-.94 2.06-2.06.94z\"/><path d=\"M17.41 7.96l-1.37-1.37c-.4-.4-.92-.59-1.43-.59-.52 0-1.04.2-1.43.59L10.3 9.45l-7.72 7.72c-.78.78-.78 2.05 0 2.83L4 21.41c.39.39.9.59 1.41.59.51 0 1.02-.2 1.41-.59l7.78-7.78 2.81-2.81c.8-.78.8-2.07 0-2.86zM5.41 20L4 18.59l7.72-7.72 1.47 1.35L5.41 20z\"/>\n",
              "  </svg>\n",
              "      </button>\n",
              "      \n",
              "  <style>\n",
              "    .colab-df-container {\n",
              "      display:flex;\n",
              "      flex-wrap:wrap;\n",
              "      gap: 12px;\n",
              "    }\n",
              "\n",
              "    .colab-df-convert {\n",
              "      background-color: #E8F0FE;\n",
              "      border: none;\n",
              "      border-radius: 50%;\n",
              "      cursor: pointer;\n",
              "      display: none;\n",
              "      fill: #1967D2;\n",
              "      height: 32px;\n",
              "      padding: 0 0 0 0;\n",
              "      width: 32px;\n",
              "    }\n",
              "\n",
              "    .colab-df-convert:hover {\n",
              "      background-color: #E2EBFA;\n",
              "      box-shadow: 0px 1px 2px rgba(60, 64, 67, 0.3), 0px 1px 3px 1px rgba(60, 64, 67, 0.15);\n",
              "      fill: #174EA6;\n",
              "    }\n",
              "\n",
              "    [theme=dark] .colab-df-convert {\n",
              "      background-color: #3B4455;\n",
              "      fill: #D2E3FC;\n",
              "    }\n",
              "\n",
              "    [theme=dark] .colab-df-convert:hover {\n",
              "      background-color: #434B5C;\n",
              "      box-shadow: 0px 1px 3px 1px rgba(0, 0, 0, 0.15);\n",
              "      filter: drop-shadow(0px 1px 2px rgba(0, 0, 0, 0.3));\n",
              "      fill: #FFFFFF;\n",
              "    }\n",
              "  </style>\n",
              "\n",
              "      <script>\n",
              "        const buttonEl =\n",
              "          document.querySelector('#df-77fe3758-b5f4-4af4-a8a1-ed29172d5e76 button.colab-df-convert');\n",
              "        buttonEl.style.display =\n",
              "          google.colab.kernel.accessAllowed ? 'block' : 'none';\n",
              "\n",
              "        async function convertToInteractive(key) {\n",
              "          const element = document.querySelector('#df-77fe3758-b5f4-4af4-a8a1-ed29172d5e76');\n",
              "          const dataTable =\n",
              "            await google.colab.kernel.invokeFunction('convertToInteractive',\n",
              "                                                     [key], {});\n",
              "          if (!dataTable) return;\n",
              "\n",
              "          const docLinkHtml = 'Like what you see? Visit the ' +\n",
              "            '<a target=\"_blank\" href=https://colab.research.google.com/notebooks/data_table.ipynb>data table notebook</a>'\n",
              "            + ' to learn more about interactive tables.';\n",
              "          element.innerHTML = '';\n",
              "          dataTable['output_type'] = 'display_data';\n",
              "          await google.colab.output.renderOutput(dataTable, element);\n",
              "          const docLink = document.createElement('div');\n",
              "          docLink.innerHTML = docLinkHtml;\n",
              "          element.appendChild(docLink);\n",
              "        }\n",
              "      </script>\n",
              "    </div>\n",
              "  </div>\n",
              "  "
            ]
          },
          "metadata": {},
          "execution_count": 27
        }
      ]
    },
    {
      "cell_type": "code",
      "source": [
        "data.shape"
      ],
      "metadata": {
        "colab": {
          "base_uri": "https://localhost:8080/"
        },
        "id": "r0Hdi30fedvi",
        "outputId": "4183667f-0e02-4821-ddef-411a521713cb"
      },
      "execution_count": null,
      "outputs": [
        {
          "output_type": "execute_result",
          "data": {
            "text/plain": [
              "(179960, 784)"
            ]
          },
          "metadata": {},
          "execution_count": 28
        }
      ]
    },
    {
      "cell_type": "code",
      "source": [
        "temp=data.to_numpy()"
      ],
      "metadata": {
        "id": "P_5EkmyKed0y"
      },
      "execution_count": null,
      "outputs": []
    },
    {
      "cell_type": "code",
      "source": [
        "X_train = temp.reshape(temp.shape[0], 28, 28, 1)"
      ],
      "metadata": {
        "id": "JMxwxg-Be2m7"
      },
      "execution_count": null,
      "outputs": []
    },
    {
      "cell_type": "code",
      "source": [
        "temp.shape[0]"
      ],
      "metadata": {
        "colab": {
          "base_uri": "https://localhost:8080/"
        },
        "id": "Rdt97_rce20V",
        "outputId": "c1b6c96c-34a8-4c4b-d160-e3c84aa63bb9"
      },
      "execution_count": null,
      "outputs": [
        {
          "output_type": "execute_result",
          "data": {
            "text/plain": [
              "179960"
            ]
          },
          "metadata": {},
          "execution_count": 31
        }
      ]
    },
    {
      "cell_type": "code",
      "source": [
        "X_train.shape"
      ],
      "metadata": {
        "colab": {
          "base_uri": "https://localhost:8080/"
        },
        "id": "9Rv77EQ-e2-q",
        "outputId": "9ce7c8fe-3185-4af3-e28f-342cf43de1ad"
      },
      "execution_count": null,
      "outputs": [
        {
          "output_type": "execute_result",
          "data": {
            "text/plain": [
              "(179960, 28, 28, 1)"
            ]
          },
          "metadata": {},
          "execution_count": 32
        }
      ]
    },
    {
      "cell_type": "code",
      "source": [
        "l=[]\n",
        "for i in range(14326):\n",
        "    l.append(np.array(data[i:i+1]).reshape(1,28,28))"
      ],
      "metadata": {
        "id": "j8P-G1p2e3GH"
      },
      "execution_count": null,
      "outputs": []
    },
    {
      "cell_type": "code",
      "source": [
        "np.random.seed(7)"
      ],
      "metadata": {
        "id": "SUAiLD9Qe3NU"
      },
      "execution_count": null,
      "outputs": []
    },
    {
      "cell_type": "code",
      "source": [
        "len(l[0])"
      ],
      "metadata": {
        "colab": {
          "base_uri": "https://localhost:8080/"
        },
        "id": "tpT3xhZ2ed56",
        "outputId": "20f6c5d8-fdfa-4c6f-fedc-b0fa3875016c"
      },
      "execution_count": null,
      "outputs": [
        {
          "output_type": "execute_result",
          "data": {
            "text/plain": [
              "1"
            ]
          },
          "metadata": {},
          "execution_count": 35
        }
      ]
    },
    {
      "cell_type": "code",
      "source": [
        "X_train.shape"
      ],
      "metadata": {
        "colab": {
          "base_uri": "https://localhost:8080/"
        },
        "id": "NswdufYVed96",
        "outputId": "b95e1682-84b8-46d2-c6ca-a71a5f3cfeaa"
      },
      "execution_count": null,
      "outputs": [
        {
          "output_type": "execute_result",
          "data": {
            "text/plain": [
              "(179960, 28, 28, 1)"
            ]
          },
          "metadata": {},
          "execution_count": 36
        }
      ]
    },
    {
      "cell_type": "code",
      "source": [
        "model = Sequential()\n",
        "model.add(Conv2D(32, (3,3), input_shape=(28, 28,1), activation='relu',padding='same'))\n",
        "model.add(MaxPooling2D(pool_size=(2, 2)))\n",
        "model.add(Conv2D(15, (3, 3), activation='relu'))\n",
        "model.add(MaxPooling2D(pool_size=(2, 2)))\n",
        "model.add(Dropout(0.2))\n",
        "model.add(Flatten())\n",
        "model.add(Dense(128, activation='relu'))\n",
        "model.add(Dense(50, activation='relu'))\n",
        "model.add(Dense(13, activation='softmax'))\n",
        "# Compile model\n",
        "model.compile(loss='categorical_crossentropy', optimizer='adam', metrics=['accuracy'])"
      ],
      "metadata": {
        "id": "GMvZacURfNa2"
      },
      "execution_count": null,
      "outputs": []
    },
    {
      "cell_type": "code",
      "source": [
        "model.summary()"
      ],
      "metadata": {
        "colab": {
          "base_uri": "https://localhost:8080/"
        },
        "id": "O1OB92elfNgN",
        "outputId": "374ebc88-bd0a-426f-ceb2-1928ec074920"
      },
      "execution_count": null,
      "outputs": [
        {
          "output_type": "stream",
          "name": "stdout",
          "text": [
            "Model: \"sequential\"\n",
            "_________________________________________________________________\n",
            " Layer (type)                Output Shape              Param #   \n",
            "=================================================================\n",
            " conv2d (Conv2D)             (None, 28, 28, 32)        320       \n",
            "                                                                 \n",
            " max_pooling2d (MaxPooling2D  (None, 14, 14, 32)       0         \n",
            " )                                                               \n",
            "                                                                 \n",
            " conv2d_1 (Conv2D)           (None, 12, 12, 15)        4335      \n",
            "                                                                 \n",
            " max_pooling2d_1 (MaxPooling  (None, 6, 6, 15)         0         \n",
            " 2D)                                                             \n",
            "                                                                 \n",
            " dropout (Dropout)           (None, 6, 6, 15)          0         \n",
            "                                                                 \n",
            " flatten (Flatten)           (None, 540)               0         \n",
            "                                                                 \n",
            " dense (Dense)               (None, 128)               69248     \n",
            "                                                                 \n",
            " dense_1 (Dense)             (None, 50)                6450      \n",
            "                                                                 \n",
            " dense_2 (Dense)             (None, 13)                663       \n",
            "                                                                 \n",
            "=================================================================\n",
            "Total params: 81,016\n",
            "Trainable params: 81,016\n",
            "Non-trainable params: 0\n",
            "_________________________________________________________________\n"
          ]
        }
      ]
    },
    {
      "cell_type": "code",
      "source": [
        "from keras.utils.vis_utils import plot_model\n",
        "plot_model(model, to_file='model_plot.png', show_shapes=True, show_layer_names=True)"
      ],
      "metadata": {
        "colab": {
          "base_uri": "https://localhost:8080/",
          "height": 1000
        },
        "id": "j4ipJFznfNlN",
        "outputId": "6d467f66-2472-4049-d805-49387d84ade9"
      },
      "execution_count": null,
      "outputs": [
        {
          "output_type": "execute_result",
          "data": {
            "image/png": "[encoded data removed]",
            "text/plain": [
              "<IPython.core.display.Image object>"
            ]
          },
          "metadata": {},
          "execution_count": 39
        }
      ]
    },
    {
      "cell_type": "code",
      "source": [
        "model.fit(X_train, cat, epochs=20, batch_size=200,shuffle=True,verbose=1)"
      ],
      "metadata": {
        "colab": {
          "base_uri": "https://localhost:8080/"
        },
        "id": "s2hlGEFefNsE",
        "outputId": "272eba16-887b-467f-f572-77b8db04ecc3"
      },
      "execution_count": null,
      "outputs": [
        {
          "output_type": "stream",
          "name": "stdout",
          "text": [
            "Epoch 1/20\n",
            "900/900 [==============================] - 168s 187ms/step - loss: 0.0123 - accuracy: 0.9961\n",
            "Epoch 2/20\n",
            "900/900 [==============================] - 163s 181ms/step - loss: 0.0108 - accuracy: 0.9967\n",
            "Epoch 3/20\n",
            "900/900 [==============================] - 167s 185ms/step - loss: 0.0119 - accuracy: 0.9965\n",
            "Epoch 4/20\n",
            "900/900 [==============================] - 163s 181ms/step - loss: 0.0103 - accuracy: 0.9970\n",
            "Epoch 5/20\n",
            "900/900 [==============================] - 165s 183ms/step - loss: 0.0108 - accuracy: 0.9967\n",
            "Epoch 6/20\n",
            "900/900 [==============================] - 162s 180ms/step - loss: 0.0104 - accuracy: 0.9968\n",
            "Epoch 7/20\n",
            "900/900 [==============================] - 161s 179ms/step - loss: 0.0093 - accuracy: 0.9973\n",
            "Epoch 8/20\n",
            "900/900 [==============================] - 164s 182ms/step - loss: 0.0095 - accuracy: 0.9972\n",
            "Epoch 9/20\n",
            "900/900 [==============================] - 164s 182ms/step - loss: 0.0087 - accuracy: 0.9976\n",
            "Epoch 10/20\n",
            "900/900 [==============================] - 165s 183ms/step - loss: 0.0083 - accuracy: 0.9976\n",
            "Epoch 11/20\n",
            "900/900 [==============================] - 166s 184ms/step - loss: 0.0086 - accuracy: 0.9975\n",
            "Epoch 12/20\n",
            "900/900 [==============================] - 162s 180ms/step - loss: 0.0079 - accuracy: 0.9977\n",
            "Epoch 13/20\n",
            "900/900 [==============================] - 162s 180ms/step - loss: 0.0082 - accuracy: 0.9977\n",
            "Epoch 14/20\n",
            "900/900 [==============================] - 161s 178ms/step - loss: 0.0074 - accuracy: 0.9979\n",
            "Epoch 15/20\n",
            "900/900 [==============================] - 158s 175ms/step - loss: 0.0085 - accuracy: 0.9976\n",
            "Epoch 16/20\n",
            "900/900 [==============================] - 160s 177ms/step - loss: 0.0066 - accuracy: 0.9981\n",
            "Epoch 17/20\n",
            "900/900 [==============================] - 161s 179ms/step - loss: 0.0082 - accuracy: 0.9977\n",
            "Epoch 18/20\n",
            "900/900 [==============================] - 163s 181ms/step - loss: 0.0069 - accuracy: 0.9978\n",
            "Epoch 19/20\n",
            "900/900 [==============================] - 160s 178ms/step - loss: 0.0070 - accuracy: 0.9981\n",
            "Epoch 20/20\n",
            "900/900 [==============================] - 160s 178ms/step - loss: 0.0083 - accuracy: 0.9978\n"
          ]
        },
        {
          "output_type": "execute_result",
          "data": {
            "text/plain": [
              "<keras.callbacks.History at 0x7f062c26b0a0>"
            ]
          },
          "metadata": {},
          "execution_count": 71
        }
      ]
    },
    {
      "cell_type": "code",
      "source": [
        "import pickle\n",
        "pickle.dump(model, open('model.pkl', 'wb'))\n",
        "model.save_weights(\"model_final.h5\")"
      ],
      "metadata": {
        "id": "vFbNV7ljoYRt"
      },
      "execution_count": null,
      "outputs": []
    },
    {
      "cell_type": "code",
      "source": [
        "import cv2\n",
        "import numpy as np\n",
        "img = cv2.imread('lgm9.jpg',cv2.IMREAD_GRAYSCALE)\n"
      ],
      "metadata": {
        "id": "mRsP7hyDofsl"
      },
      "execution_count": null,
      "outputs": []
    },
    {
      "cell_type": "code",
      "source": [
        "from google.colab.patches import cv2_imshow\n",
        "cv2_imshow(img)\n"
      ],
      "metadata": {
        "colab": {
          "base_uri": "https://localhost:8080/",
          "height": 265
        },
        "id": "0YS-ZHfsof-A",
        "outputId": "10ea2d9c-1485-4970-dae2-189c031cabf7"
      },
      "execution_count": null,
      "outputs": [
        {
          "output_type": "display_data",
          "data": {
            "text/plain": [
              "<PIL.Image.Image image mode=L size=366x248 at 0x7F062C2ACBE0>"
            ],
            "image/png": "[encoded data removed]"
          },
          "metadata": {}
        }
      ]
    },
    {
      "cell_type": "code",
      "source": [
        "if img is not None:\n",
        "    img=~img\n",
        "    ret,thresh=cv2.threshold(img,127,255,cv2.THRESH_BINARY)\n",
        "    ctrs,ret=cv2.findContours(thresh,cv2.RETR_TREE,cv2.CHAIN_APPROX_SIMPLE)\n",
        "    cnt=sorted(ctrs, key=lambda ctr: cv2.boundingRect(ctr)[0])\n",
        "    w=int(28)\n",
        "    h=int(28)\n",
        "    train_data=[]\n",
        "    print(len(cnt))\n",
        "    rects=[]\n",
        "    for c in cnt :\n",
        "        x,y,w,h= cv2.boundingRect(c)\n",
        "        rect=[x,y,w,h]\n",
        "        rects.append(rect)\n",
        "    print(rects)\n",
        "    bool_rect=[]\n",
        "    for r in rects:\n",
        "        l=[]\n",
        "        for rec in rects:\n",
        "            flag=0\n",
        "            if rec!=r:\n",
        "                if r[0]<(rec[0]+rec[2]+10) and rec[0]<(r[0]+r[2]+10) and r[1]<(rec[1]+rec[3]+10) and rec[1]<(r[1]+r[3]+10):\n",
        "                    flag=1\n",
        "                l.append(flag)\n",
        "            if rec==r:\n",
        "                l.append(0)\n",
        "        bool_rect.append(l)\n",
        "    print(bool_rect)\n",
        "    dump_rect=[]\n",
        "    for i in range(0,len(cnt)):\n",
        "        for j in range(0,len(cnt)):\n",
        "            if bool_rect[i][j]==1:\n",
        "                area1=rects[i][2]*rects[i][3]\n",
        "                area2=rects[j][2]*rects[j][3]\n",
        "                if(area1==min(area1,area2)):\n",
        "                    dump_rect.append(rects[i])\n",
        "    print(len(dump_rect))\n",
        "    final_rect=[i for i in rects if i not in dump_rect]\n",
        "    print(final_rect)\n",
        "    for r in final_rect:\n",
        "        x=r[0]\n",
        "        y=r[1]\n",
        "        w=r[2]\n",
        "        h=r[3]\n",
        "        im_crop =thresh[y:y+h+10,x:x+w+10]\n",
        "        im_resize = cv2.resize(im_crop,(28,28))\n",
        "        im_resize=np.reshape(im_resize,(28,28,1))\n",
        "        train_data.append(im_resize)"
      ],
      "metadata": {
        "colab": {
          "base_uri": "https://localhost:8080/"
        },
        "id": "SR7-BfEeogd4",
        "outputId": "a2f22230-e3e9-4210-ab17-4099d465288f"
      },
      "execution_count": null,
      "outputs": [
        {
          "output_type": "stream",
          "name": "stdout",
          "text": [
            "3\n",
            "[[97, 92, 48, 84], [192, 85, 38, 65], [261, 70, 79, 77]]\n",
            "[[0, 0, 0], [0, 0, 0], [0, 0, 0]]\n",
            "0\n",
            "[[97, 92, 48, 84], [192, 85, 38, 65], [261, 70, 79, 77]]\n"
          ]
        }
      ]
    },
    {
      "cell_type": "code",
      "source": [
        "equation=''\n",
        "for i in range(len(train_data)):\n",
        "    train_data[i]=np.array(train_data[i])\n",
        "    train_data[i]=train_data[i].reshape(1,28,28,1)\n",
        "    result=np.argmax(model.predict(train_data[i]), axis=-1)\n",
        "    if(result[0]==10):\n",
        "        equation = equation +'-'\n",
        "    if(result[0]==11):\n",
        "        equation = equation +'+'\n",
        "    if(result[0]==12):\n",
        "        equation = equation +'*'\n",
        "    if(result[0]==0):\n",
        "        equation = equation +'0'\n",
        "    if(result[0]==1):\n",
        "        equation = equation +'1'\n",
        "    if(result[0]==2):\n",
        "        equation = equation +'2'\n",
        "    if(result[0]==3):\n",
        "        equation = equation +'3'\n",
        "    if(result[0]==4):\n",
        "        equation = equation +'4'\n",
        "    if(result[0]==5):\n",
        "        equation = equation +'5'\n",
        "    if(result[0]==6):\n",
        "        equation = equation +'6'\n",
        "    if(result[0]==7):\n",
        "        equation = equation +'7'\n",
        "    if(result[0]==8):\n",
        "        equation = equation +'8'\n",
        "    if(result[0]==9):\n",
        "        equation = equation +'9'"
      ],
      "metadata": {
        "colab": {
          "base_uri": "https://localhost:8080/"
        },
        "id": "pUPLBWi5oYk3",
        "outputId": "e6c860b9-393e-4db9-c431-16c8a5c33a94"
      },
      "execution_count": null,
      "outputs": [
        {
          "output_type": "stream",
          "name": "stdout",
          "text": [
            "1/1 [==============================] - 0s 27ms/step\n",
            "1/1 [==============================] - 0s 26ms/step\n",
            "1/1 [==============================] - 0s 26ms/step\n"
          ]
        }
      ]
    },
    {
      "cell_type": "code",
      "source": [
        "print(equation)"
      ],
      "metadata": {
        "colab": {
          "base_uri": "https://localhost:8080/"
        },
        "id": "UH_20a1Hp8aZ",
        "outputId": "5657582c-ce97-417d-cffc-31af490119c3"
      },
      "execution_count": null,
      "outputs": [
        {
          "output_type": "stream",
          "name": "stdout",
          "text": [
            "3*2\n"
          ]
        }
      ]
    },
    {
      "cell_type": "code",
      "source": [
        "eval(equation)"
      ],
      "metadata": {
        "colab": {
          "base_uri": "https://localhost:8080/"
        },
        "id": "w2LMxU9Gp-h2",
        "outputId": "e2f8ed42-939e-4964-eaab-0d3ce39ef616"
      },
      "execution_count": null,
      "outputs": [
        {
          "output_type": "execute_result",
          "data": {
            "text/plain": [
              "6"
            ]
          },
          "metadata": {},
          "execution_count": 103
        }
      ]
    }
  ]
}