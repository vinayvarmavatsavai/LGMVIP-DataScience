{
 "cells": [
  {
   "cell_type": "markdown",
   "metadata": {
    "id": "MUubGMfnIlv0"
   },
   "source": [
    "# TASK_8\n",
    "## Next word prediction\n",
    "### Done by :- Vatsavai Vinay Varma"
   ]
  },
  {
   "cell_type": "markdown",
   "metadata": {
    "id": "IzHAjUaKIla7"
   },
   "source": [
    "## Importing required libraries"
   ]
  },
  {
   "cell_type": "code",
   "execution_count": 1,
   "metadata": {
    "id": "D9BBJOPjGeIb"
   },
   "outputs": [],
   "source": [
    "import tensorflow as tf\n",
    "from tensorflow.keras.preprocessing.text import Tokenizer\n",
    "from tensorflow.keras.preprocessing.sequence import pad_sequences"
   ]
  },
  {
   "cell_type": "markdown",
   "metadata": {},
   "source": [
    "## Load and preprocess the text dataset"
   ]
  },
  {
   "cell_type": "code",
   "execution_count": 2,
   "metadata": {},
   "outputs": [],
   "source": [
    "with open(\"C:\\\\Users\\\\vinnu\\\\Downloads\\\\1661-0.txt\", \"r\",encoding=\"utf-8\") as file:\n",
    "    text_data = file.read()"
   ]
  },
  {
   "cell_type": "code",
   "execution_count": 2,
   "metadata": {
    "id": "Ovyw0r3wGeIc"
   },
   "outputs": [],
   "source": [
    "tokenizer = Tokenizer()\n",
    "tokenizer.fit_on_texts([text_data])\n",
    "total_words = len(tokenizer.word_index) + 1"
   ]
  },
  {
   "cell_type": "markdown",
   "metadata": {},
   "source": [
    "## Create input sequences and target words"
   ]
  },
  {
   "cell_type": "code",
   "execution_count": 3,
   "metadata": {
    "id": "rshWUIzNGeId"
   },
   "outputs": [],
   "source": [
    "input_sequences = []\n",
    "target_words = []\n",
    "\n",
    "for line in text_data.split(\"\\n\"):\n",
    "    tokenized_words = tokenizer.texts_to_sequences([line])[0]\n",
    "    for i in range(1, len(tokenized_words)):\n",
    "        input_sequences.append(tokenized_words[:i])\n",
    "        target_words.append(tokenized_words[i])"
   ]
  },
  {
   "cell_type": "markdown",
   "metadata": {},
   "source": [
    "## Pad sequences"
   ]
  },
  {
   "cell_type": "code",
   "execution_count": 4,
   "metadata": {
    "id": "lF4quduuGeId"
   },
   "outputs": [],
   "source": [
    "max_sequence_length = max([len(seq) for seq in input_sequences]) + 1\n",
    "input_sequences = pad_sequences(input_sequences, maxlen=max_sequence_length - 1)"
   ]
  },
  {
   "cell_type": "markdown",
   "metadata": {},
   "source": [
    "## Convert target words to categorical"
   ]
  },
  {
   "cell_type": "code",
   "execution_count": 5,
   "metadata": {
    "id": "-P8bMQeGGeId"
   },
   "outputs": [],
   "source": [
    "target_words = tf.keras.utils.to_categorical(target_words, num_classes=total_words)"
   ]
  },
  {
   "cell_type": "markdown",
   "metadata": {},
   "source": [
    "## Define the RNN model"
   ]
  },
  {
   "cell_type": "code",
   "execution_count": 6,
   "metadata": {
    "id": "Go5h9U23GeId"
   },
   "outputs": [],
   "source": [
    "model = tf.keras.models.Sequential([\n",
    "    tf.keras.layers.Embedding(total_words, 100, input_length=max_sequence_length - 1),\n",
    "    tf.keras.layers.LSTM(150),\n",
    "    tf.keras.layers.Dense(total_words, activation='softmax')\n",
    "])"
   ]
  },
  {
   "cell_type": "code",
   "execution_count": 7,
   "metadata": {
    "id": "-dxpnfUEGeIe"
   },
   "outputs": [],
   "source": [
    "model.compile(loss='categorical_crossentropy', optimizer='adam', metrics=['accuracy'])"
   ]
  },
  {
   "cell_type": "code",
   "execution_count": 8,
   "metadata": {
    "colab": {
     "base_uri": "https://localhost:8080/"
    },
    "id": "G3vsPvvcGeIe",
    "outputId": "ff74a833-c4d7-41aa-d907-0029a7461f8a"
   },
   "outputs": [
    {
     "name": "stdout",
     "output_type": "stream",
     "text": [
      "Epoch 1/50\n",
      "3176/3176 [==============================] - 243s 75ms/step - loss: 6.2667 - accuracy: 0.0763\n",
      "Epoch 2/50\n",
      "3176/3176 [==============================] - 253s 80ms/step - loss: 5.4959 - accuracy: 0.1274\n",
      "Epoch 3/50\n",
      "3176/3176 [==============================] - 254s 80ms/step - loss: 5.0874 - accuracy: 0.1522\n",
      "Epoch 4/50\n",
      "3176/3176 [==============================] - 246s 77ms/step - loss: 4.7405 - accuracy: 0.1731\n",
      "Epoch 5/50\n",
      "3176/3176 [==============================] - 244s 77ms/step - loss: 4.4207 - accuracy: 0.1919\n",
      "Epoch 6/50\n",
      "3176/3176 [==============================] - 246s 77ms/step - loss: 4.1169 - accuracy: 0.2160\n",
      "Epoch 7/50\n",
      "3176/3176 [==============================] - 254s 80ms/step - loss: 3.8301 - accuracy: 0.2442\n",
      "Epoch 8/50\n",
      "3176/3176 [==============================] - 248s 78ms/step - loss: 3.5578 - accuracy: 0.2775\n",
      "Epoch 9/50\n",
      "3176/3176 [==============================] - 245s 77ms/step - loss: 3.3052 - accuracy: 0.3114\n",
      "Epoch 10/50\n",
      "3176/3176 [==============================] - 244s 77ms/step - loss: 3.0713 - accuracy: 0.3492\n",
      "Epoch 11/50\n",
      "3176/3176 [==============================] - 246s 78ms/step - loss: 2.8565 - accuracy: 0.3860\n",
      "Epoch 12/50\n",
      "3176/3176 [==============================] - 245s 77ms/step - loss: 2.6598 - accuracy: 0.4217\n",
      "Epoch 13/50\n",
      "3176/3176 [==============================] - 247s 78ms/step - loss: 2.4781 - accuracy: 0.4562\n",
      "Epoch 14/50\n",
      "3176/3176 [==============================] - 239s 75ms/step - loss: 2.3143 - accuracy: 0.4883\n",
      "Epoch 15/50\n",
      "3176/3176 [==============================] - 236s 74ms/step - loss: 2.1622 - accuracy: 0.5183\n",
      "Epoch 16/50\n",
      "3176/3176 [==============================] - 240s 76ms/step - loss: 2.0258 - accuracy: 0.5450\n",
      "Epoch 17/50\n",
      "3176/3176 [==============================] - 238s 75ms/step - loss: 1.8999 - accuracy: 0.5725\n",
      "Epoch 18/50\n",
      "3176/3176 [==============================] - 233s 73ms/step - loss: 1.7853 - accuracy: 0.5954\n",
      "Epoch 19/50\n",
      "3176/3176 [==============================] - 236s 74ms/step - loss: 1.6818 - accuracy: 0.6195\n",
      "Epoch 20/50\n",
      "3176/3176 [==============================] - 236s 74ms/step - loss: 1.5842 - accuracy: 0.6403\n",
      "Epoch 21/50\n",
      "3176/3176 [==============================] - 236s 74ms/step - loss: 1.4977 - accuracy: 0.6591\n",
      "Epoch 22/50\n",
      "3176/3176 [==============================] - 235s 74ms/step - loss: 1.4174 - accuracy: 0.6771\n",
      "Epoch 23/50\n",
      "3176/3176 [==============================] - 235s 74ms/step - loss: 1.3447 - accuracy: 0.6928\n",
      "Epoch 24/50\n",
      "3176/3176 [==============================] - 235s 74ms/step - loss: 1.2792 - accuracy: 0.7083\n",
      "Epoch 25/50\n",
      "3176/3176 [==============================] - 234s 74ms/step - loss: 1.2178 - accuracy: 0.7210\n",
      "Epoch 26/50\n",
      "3176/3176 [==============================] - 231s 73ms/step - loss: 1.1607 - accuracy: 0.7331\n",
      "Epoch 27/50\n",
      "3176/3176 [==============================] - 231s 73ms/step - loss: 1.1101 - accuracy: 0.7452\n",
      "Epoch 28/50\n",
      "3176/3176 [==============================] - 230s 73ms/step - loss: 1.0613 - accuracy: 0.7566\n",
      "Epoch 29/50\n",
      "3176/3176 [==============================] - 230s 73ms/step - loss: 1.0201 - accuracy: 0.7647\n",
      "Epoch 30/50\n",
      "3176/3176 [==============================] - 227s 71ms/step - loss: 0.9794 - accuracy: 0.7719\n",
      "Epoch 31/50\n",
      "3176/3176 [==============================] - 223s 70ms/step - loss: 0.9423 - accuracy: 0.7814\n",
      "Epoch 32/50\n",
      "3176/3176 [==============================] - 229s 72ms/step - loss: 0.9084 - accuracy: 0.7889\n",
      "Epoch 33/50\n",
      "3176/3176 [==============================] - 230s 73ms/step - loss: 0.8748 - accuracy: 0.7971\n",
      "Epoch 34/50\n",
      "3176/3176 [==============================] - 232s 73ms/step - loss: 0.8518 - accuracy: 0.8009\n",
      "Epoch 35/50\n",
      "3176/3176 [==============================] - 230s 72ms/step - loss: 0.8195 - accuracy: 0.8086\n",
      "Epoch 36/50\n",
      "3176/3176 [==============================] - 234s 74ms/step - loss: 0.7960 - accuracy: 0.8129\n",
      "Epoch 37/50\n",
      "3176/3176 [==============================] - 231s 73ms/step - loss: 0.7756 - accuracy: 0.8170\n",
      "Epoch 38/50\n",
      "3176/3176 [==============================] - 230s 72ms/step - loss: 0.7525 - accuracy: 0.8224\n",
      "Epoch 39/50\n",
      "3176/3176 [==============================] - 228s 72ms/step - loss: 0.7358 - accuracy: 0.8254\n",
      "Epoch 40/50\n",
      "3176/3176 [==============================] - 232s 73ms/step - loss: 0.7141 - accuracy: 0.8318\n",
      "Epoch 41/50\n",
      "3176/3176 [==============================] - 232s 73ms/step - loss: 0.7014 - accuracy: 0.8334\n",
      "Epoch 42/50\n",
      "3176/3176 [==============================] - 234s 74ms/step - loss: 0.6862 - accuracy: 0.8358\n",
      "Epoch 43/50\n",
      "3176/3176 [==============================] - 231s 73ms/step - loss: 0.6691 - accuracy: 0.8396\n",
      "Epoch 44/50\n",
      "3176/3176 [==============================] - 230s 72ms/step - loss: 0.6609 - accuracy: 0.8418\n",
      "Epoch 45/50\n",
      "3176/3176 [==============================] - 231s 73ms/step - loss: 0.6490 - accuracy: 0.8440\n",
      "Epoch 46/50\n",
      "3176/3176 [==============================] - 231s 73ms/step - loss: 0.6307 - accuracy: 0.8483\n",
      "Epoch 47/50\n",
      "3176/3176 [==============================] - 230s 73ms/step - loss: 0.6207 - accuracy: 0.8494\n",
      "Epoch 48/50\n",
      "3176/3176 [==============================] - 229s 72ms/step - loss: 0.6135 - accuracy: 0.8507\n",
      "Epoch 49/50\n",
      "3176/3176 [==============================] - 227s 71ms/step - loss: 0.6028 - accuracy: 0.8530\n",
      "Epoch 50/50\n",
      "3176/3176 [==============================] - 229s 72ms/step - loss: 0.5928 - accuracy: 0.8559\n"
     ]
    },
    {
     "data": {
      "text/plain": [
       "<keras.callbacks.History at 0x7f327e6a5690>"
      ]
     },
     "execution_count": 8,
     "metadata": {},
     "output_type": "execute_result"
    }
   ],
   "source": [
    "model.fit(input_sequences, target_words, epochs=50, verbose=1)"
   ]
  },
  {
   "cell_type": "markdown",
   "metadata": {},
   "source": [
    "## Generate predictions"
   ]
  },
  {
   "cell_type": "code",
   "execution_count": 18,
   "metadata": {
    "colab": {
     "base_uri": "https://localhost:8080/"
    },
    "id": "I2mWDX0_GeIf",
    "outputId": "28407778-799c-4f19-cf1c-de8eb2cca8e0"
   },
   "outputs": [
    {
     "name": "stdout",
     "output_type": "stream",
     "text": [
      "1/1 [==============================] - 0s 36ms/step\n",
      "1/1 [==============================] - 0s 23ms/step\n",
      "1/1 [==============================] - 0s 22ms/step\n",
      "Generated Text:\n",
      "She is swift in making\n"
     ]
    }
   ],
   "source": [
    "seed_text = \"She is\"\n",
    "next_words = 3\n",
    "\n",
    "for _ in range(next_words):\n",
    "    tokenized_seed = tokenizer.texts_to_sequences([seed_text])[0]\n",
    "    padded_seed = pad_sequences([tokenized_seed], maxlen=max_sequence_length - 1)\n",
    "    predicted_index = tf.argmax(model.predict(padded_seed), axis=-1)[0]\n",
    "    predicted_word = \"\"\n",
    "    \n",
    "    for word, index in tokenizer.word_index.items():\n",
    "        if index == predicted_index:\n",
    "            predicted_word = word\n",
    "            break\n",
    "    \n",
    "    seed_text += \" \" + predicted_word\n",
    "\n",
    "print(\"Generated Text:\")\n",
    "print(seed_text)"
   ]
  }
 ],
 "metadata": {
  "colab": {
   "provenance": []
  },
  "kernelspec": {
   "display_name": "Python 3",
   "language": "python",
   "name": "python3"
  },
  "language_info": {
   "codemirror_mode": {
    "name": "ipython",
    "version": 3
   },
   "file_extension": ".py",
   "mimetype": "text/x-python",
   "name": "python",
   "nbconvert_exporter": "python",
   "pygments_lexer": "ipython3",
   "version": "3.8.5"
  }
 },
 "nbformat": 4,
 "nbformat_minor": 1
}
